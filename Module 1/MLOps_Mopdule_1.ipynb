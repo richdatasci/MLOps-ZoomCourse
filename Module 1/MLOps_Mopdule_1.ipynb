{
  "nbformat": 4,
  "nbformat_minor": 0,
  "metadata": {
    "colab": {
      "name": "MLOps Mopdule 1.ipynb",
      "provenance": [],
      "collapsed_sections": []
    },
    "kernelspec": {
      "name": "python3",
      "display_name": "Python 3"
    },
    "language_info": {
      "name": "python"
    }
  },
  "cells": [
    {
      "cell_type": "markdown",
      "source": [
        "## MLOPs MOdule 1\n"
      ],
      "metadata": {
        "id": "LFgyBId2GgPD"
      }
    },
    {
      "cell_type": "code",
      "source": [
        "import pandas as pd\n",
        "import pickle\n",
        "import seaborn as sns\n",
        "import matplotlib.pyplot as plt\n",
        "from sklearn.feature_extraction import DictVectorizer\n",
        "from sklearn.linear_model import LinearRegression\n",
        "from sklearn.linear_model import Lasso\n",
        "from sklearn.linear_model import Ridge\n",
        "\n",
        "from sklearn.metrics import mean_squared_error"
      ],
      "metadata": {
        "id": "ocKq0yHlG6SD"
      },
      "execution_count": 1,
      "outputs": []
    },
    {
      "cell_type": "code",
      "source": [
        "# load data\n",
        "df = pd.read_parquet('green_tripdata_2021-01.parquet')"
      ],
      "metadata": {
        "id": "fgbPWp6nOo-k"
      },
      "execution_count": 2,
      "outputs": []
    },
    {
      "cell_type": "code",
      "source": [
        "#df = df[df.trip_type == 2]"
      ],
      "metadata": {
        "id": "EO-S7NujOiN1"
      },
      "execution_count": 3,
      "outputs": []
    },
    {
      "cell_type": "code",
      "source": [
        "# add a duration column which is the start - end time (/ 60 for mins)\n",
        "df['duration'] = df.lpep_dropoff_datetime - df.lpep_pickup_datetime\n",
        "df.duration = df.duration.apply(lambda td: td.total_seconds() / 60)\n",
        "\n",
        "# filter the dataset to equal or greater than 1 minute & euqual to or less than 60 mins\n",
        "df = df[(df.duration >= 1) & (df.duration <= 60)]\n",
        "\n",
        "categorical = ['PULocationID', 'DOLocationID']\n",
        "numerical = ['trip_distance']\n",
        "# set categorical items to string for encoding\n",
        "df[categorical] = df[categorical].astype(str)"
      ],
      "metadata": {
        "id": "M81oMQ8sH5rZ"
      },
      "execution_count": 4,
      "outputs": []
    },
    {
      "cell_type": "code",
      "source": [
        "# create variable to encode the categorical and numerical \n",
        "# enter them into a dictionary\n",
        "train_dicts = df[categorical + numerical].to_dict(orient='records')\n",
        "\n",
        "# apply encoder to dictionary\n",
        "dv = DictVectorizer()\n",
        "# set the encoded dictionary to train data\n",
        "X_train = dv.fit_transform(train_dicts)\n",
        "\n",
        "# define the target variable\n",
        "target = 'duration'\n",
        "# set the target value to y_train\n",
        "y_train = df[target].values\n",
        "\n",
        "#fit a linearregression model on the training data\n",
        "lr = LinearRegression()\n",
        "lr.fit(X_train, y_train)\n",
        "\n",
        "# set prediction to training data\n",
        "y_pred = lr.predict(X_train)\n",
        "\n",
        "#compute the mean squared error\n",
        "mean_squared_error(y_train, y_pred, squared=False)"
      ],
      "metadata": {
        "colab": {
          "base_uri": "https://localhost:8080/"
        },
        "id": "N01m4qJ1Q610",
        "outputId": "a345951a-9166-43af-f89a-6a8808d98d05"
      },
      "execution_count": 5,
      "outputs": [
        {
          "output_type": "execute_result",
          "data": {
            "text/plain": [
              "9.775464329504265"
            ]
          },
          "metadata": {},
          "execution_count": 5
        }
      ]
    },
    {
      "cell_type": "code",
      "source": [
        "# plot a comparison between the predicitons and actual\n",
        "sns.distplot(y_pred, label='prediction')\n",
        "sns.distplot(y_train, label='actual')\n",
        "\n",
        "plt.legend()"
      ],
      "metadata": {
        "colab": {
          "base_uri": "https://localhost:8080/",
          "height": 376
        },
        "id": "KtAsn2caR1oJ",
        "outputId": "94c5dfd7-70c4-4669-c534-7670ed4d5c00"
      },
      "execution_count": 6,
      "outputs": [
        {
          "output_type": "stream",
          "name": "stderr",
          "text": [
            "/usr/local/lib/python3.7/dist-packages/seaborn/distributions.py:2619: FutureWarning: `distplot` is a deprecated function and will be removed in a future version. Please adapt your code to use either `displot` (a figure-level function with similar flexibility) or `histplot` (an axes-level function for histograms).\n",
            "  warnings.warn(msg, FutureWarning)\n",
            "/usr/local/lib/python3.7/dist-packages/seaborn/distributions.py:2619: FutureWarning: `distplot` is a deprecated function and will be removed in a future version. Please adapt your code to use either `displot` (a figure-level function with similar flexibility) or `histplot` (an axes-level function for histograms).\n",
            "  warnings.warn(msg, FutureWarning)\n"
          ]
        },
        {
          "output_type": "execute_result",
          "data": {
            "text/plain": [
              "<matplotlib.legend.Legend at 0x7feb21a7f890>"
            ]
          },
          "metadata": {},
          "execution_count": 6
        },
        {
          "output_type": "display_data",
          "data": {
            "text/plain": [
              "<Figure size 432x288 with 1 Axes>"
            ],
            "image/png": "[encoded data removed]"
          },
          "metadata": {
            "needs_background": "light"
          }
        }
      ]
    },
    {
      "cell_type": "code",
      "source": [
        "# define a function which preprocesses the data whether in csv or parquet\n",
        "def read_dataframe(filename):\n",
        "    if filename.endswith('.csv'):\n",
        "        df = pd.read_csv(filename)\n",
        "\n",
        "        df.lpep_dropoff_datetime = pd.to_datetime(df.lpep_dropoff_datetime)\n",
        "        df.lpep_pickup_datetime = pd.to_datetime(df.lpep_pickup_datetime)\n",
        "    elif filename.endswith('.parquet'):\n",
        "        df = pd.read_parquet(filename)\n",
        "\n",
        "    df['duration'] = df.lpep_dropoff_datetime - df.lpep_pickup_datetime\n",
        "    df.duration = df.duration.apply(lambda td: td.total_seconds() / 60)\n",
        "\n",
        "    df = df[(df.duration >= 1) & (df.duration <= 60)]\n",
        "\n",
        "    categorical = ['PULocationID', 'DOLocationID']\n",
        "    df[categorical] = df[categorical].astype(str)\n",
        "    \n",
        "    return df"
      ],
      "metadata": {
        "id": "JEvhFOd5R9VM"
      },
      "execution_count": 7,
      "outputs": []
    },
    {
      "cell_type": "code",
      "source": [
        "# setting Jan 2021 to train data\n",
        "# feb 2021 to validation data\n",
        "df_train = read_dataframe('green_tripdata_2021-01.parquet')\n",
        "df_val = read_dataframe('green_tripdata_2021-02.parquet')"
      ],
      "metadata": {
        "id": "ZkUhMbKnUFy4"
      },
      "execution_count": 8,
      "outputs": []
    },
    {
      "cell_type": "code",
      "source": [
        "# compare the lengths \n",
        "len(df_train), len(df_val)"
      ],
      "metadata": {
        "colab": {
          "base_uri": "https://localhost:8080/"
        },
        "id": "jmKtt41sUNim",
        "outputId": "c4e0f9e7-a513-41d0-ae8e-751c3c68c520"
      },
      "execution_count": 9,
      "outputs": [
        {
          "output_type": "execute_result",
          "data": {
            "text/plain": [
              "(73908, 61921)"
            ]
          },
          "metadata": {},
          "execution_count": 9
        }
      ]
    },
    {
      "cell_type": "code",
      "source": [
        "# create new feature which is the pick up and location id for both\n",
        "# training and validation sets\n",
        "df_train['PU_DO'] = df_train['PULocationID'] + '_' + df_train['DOLocationID']\n",
        "df_val['PU_DO'] = df_val['PULocationID'] + '_' + df_val['DOLocationID']"
      ],
      "metadata": {
        "id": "iJBnXmFpUT3G"
      },
      "execution_count": 10,
      "outputs": []
    },
    {
      "cell_type": "code",
      "source": [
        "categorical = ['PU_DO'] #'PULocationID', 'DOLocationID']\n",
        "numerical = ['trip_distance']\n",
        "\n",
        "dv = DictVectorizer()\n",
        "\n",
        "train_dicts = df_train[categorical + numerical].to_dict(orient='records')\n",
        "X_train = dv.fit_transform(train_dicts)\n",
        "\n",
        "val_dicts = df_val[categorical + numerical].to_dict(orient='records')\n",
        "X_val = dv.transform(val_dicts)"
      ],
      "metadata": {
        "id": "44uZHj4vUcyY"
      },
      "execution_count": 11,
      "outputs": []
    },
    {
      "cell_type": "code",
      "source": [
        "target = 'duration'\n",
        "y_train = df_train[target].values\n",
        "y_val = df_val[target].values"
      ],
      "metadata": {
        "id": "3kwr-rKOU0k0"
      },
      "execution_count": 12,
      "outputs": []
    },
    {
      "cell_type": "code",
      "source": [
        "lr = LinearRegression()\n",
        "lr.fit(X_train, y_train)\n",
        "\n",
        "y_pred = lr.predict(X_val)\n",
        "\n",
        "mean_squared_error(y_val, y_pred, squared=False)"
      ],
      "metadata": {
        "colab": {
          "base_uri": "https://localhost:8080/"
        },
        "id": "s1yj4Wi_U2I3",
        "outputId": "fed9f899-887b-44a7-f57e-8e7ff9ee8ad0"
      },
      "execution_count": 13,
      "outputs": [
        {
          "output_type": "execute_result",
          "data": {
            "text/plain": [
              "7.4795869498500265"
            ]
          },
          "metadata": {},
          "execution_count": 13
        }
      ]
    },
    {
      "cell_type": "code",
      "source": [
        "with open('lin_reg.bin', 'wb') as f_out:\n",
        "    pickle.dump((dv, lr), f_out)"
      ],
      "metadata": {
        "id": "67E6bgH5U4Rw"
      },
      "execution_count": 15,
      "outputs": []
    },
    {
      "cell_type": "code",
      "source": [
        "lr = Lasso(0.01)\n",
        "lr.fit(X_train, y_train)\n",
        "\n",
        "y_pred = lr.predict(X_val)\n",
        "\n",
        "mean_squared_error(y_val, y_pred, squared=False)"
      ],
      "metadata": {
        "colab": {
          "base_uri": "https://localhost:8080/"
        },
        "id": "jbw3xIsPU8gf",
        "outputId": "23760c12-05d8-4067-ed89-2f85ffacc756"
      },
      "execution_count": 16,
      "outputs": [
        {
          "output_type": "execute_result",
          "data": {
            "text/plain": [
              "11.167275941179728"
            ]
          },
          "metadata": {},
          "execution_count": 16
        }
      ]
    }
  ]
}